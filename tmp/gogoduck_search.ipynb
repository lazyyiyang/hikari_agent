{
 "cells": [
  {
   "cell_type": "code",
   "execution_count": 4,
   "id": "6987c19e-f17b-4c28-9daa-a20ee420dd28",
   "metadata": {},
   "outputs": [],
   "source": [
    "from langchain_community.tools import DuckDuckGoSearchRun\n",
    "from langchain_community.utilities import DuckDuckGoSearchAPIWrapper\n",
    "from langchain_community.tools import DuckDuckGoSearchResults\n",
    "\n",
    "import pandas as pd\n",
    "import os"
   ]
  },
  {
   "cell_type": "code",
   "execution_count": 2,
   "id": "a7880280-245f-4ff2-8bd8-9cff0547c3b0",
   "metadata": {},
   "outputs": [],
   "source": [
    "# 添加代理配置（根据实际情况调整）\n",
    "os.environ[\"HTTP_PROXY\"] = \"http://127.0.0.1:33210\"\n",
    "os.environ[\"HTTPS_PROXY\"] = \"http://127.0.0.1:33210\""
   ]
  },
  {
   "cell_type": "code",
   "execution_count": 116,
   "id": "042e008a-dba7-48ad-b850-cd1f206c1f9a",
   "metadata": {},
   "outputs": [
    {
     "name": "stderr",
     "output_type": "stream",
     "text": [
      "C:\\Users\\yinxu\\AppData\\Local\\Programs\\Python\\Python311\\Lib\\site-packages\\langchain_community\\utilities\\duckduckgo_search.py:63: RuntimeWarning: This package (`duckduckgo_search`) has been renamed to `ddgs`! Use `pip install ddgs` instead.\n",
      "  with DDGS() as ddgs:\n"
     ]
    },
    {
     "name": "stdout",
     "output_type": "stream",
     "text": [
      "搜索查询: 浦发银行相关新闻\n",
      "搜索结果: 9 hours ago · 浦发银行所属申万行业为：银行-股份制银行Ⅱ-股份制银行Ⅲ。 所属概念板块包括：信托概念、长期破净、低市盈率、破净股、长三角一体化等。 9 hours ago · 制图:朱林(即梦AI)前不久，一则关于某小学生用1.5万元压岁钱买银行股4个月赚2000元的话题冲上热搜，该学生家长表示，通过其账户帮助孩子将压岁钱 ... 9 hours ago · 同花顺 （300033）数据中心显示， 浦发银行 （600000）7月8日获融资买入1.64亿元，占当日买入金额的24.76%，当前融资余额39.95亿元，占流通市值的0.93%，超过历史50%分位水 … 9 hours ago · 随着银行数字化程度加深，线下网点加速“瘦身”。 7月8日，《国际金融报》记者统计发现，今年上半年已有2881个商业银行物理网点获批退出，超过2024年全年。其中，超2000条记录来自 … 9 hours ago · 7月多家媒体报道深圳等地银行经营贷利率降至3%以下引发关注。 实则今年上半年很多大银行已推出3%及以下产品，4月就有相关报道。\n"
     ]
    }
   ],
   "source": [
    "#1.可以搜索相关新闻内容，但是搜索的条目较少\n",
    "search = DuckDuckGoSearchRun(\n",
    "    backend=\"api\",\n",
    "    headers={\n",
    "        \"User-Agent\": \"Mozilla/5.0 (Windows NT 10.0; Win64; x64) AppleWebKit/537.36 (KHTML, like Gecko) Chrome/125.0.0.0 Safari/537.36\",\n",
    "        \"X-Proxy\": \"http://127.0.0.1:33210\"  # 根据实际代理端口修改\n",
    "    },\n",
    "    timeout=30,  # 增加超时时间\n",
    "    response_format = 'content'\n",
    ")\n",
    "query = \"浦发银行相关新闻\"\n",
    "result = search.run(query)\n",
    "print(f\"搜索查询: {query}\")\n",
    "print(f\"搜索结果: {result}\")"
   ]
  },
  {
   "cell_type": "code",
   "execution_count": 117,
   "id": "43e800ec-321b-46dd-a250-5ae5d41af7f9",
   "metadata": {},
   "outputs": [],
   "source": [
    "search_result = f\"搜索查询: {query}\\n搜索结果:\\n{result}\""
   ]
  },
  {
   "cell_type": "code",
   "execution_count": 118,
   "id": "acea78b9-ca05-48c5-b995-5b8ff331d782",
   "metadata": {},
   "outputs": [],
   "source": [
    "with open(\"tmp/search_result1.txt\", \"w\", encoding=\"utf-8\") as f:\n",
    "    f.write(search_result)"
   ]
  },
  {
   "cell_type": "code",
   "execution_count": 123,
   "id": "5591c670-d1e5-4832-ac5c-7e6b3c6e40a7",
   "metadata": {},
   "outputs": [
    {
     "name": "stderr",
     "output_type": "stream",
     "text": [
      "C:\\Users\\yinxu\\AppData\\Local\\Programs\\Python\\Python311\\Lib\\site-packages\\langchain_community\\utilities\\duckduckgo_search.py:63: RuntimeWarning: This package (`duckduckgo_search`) has been renamed to `ddgs`! Use `pip install ddgs` instead.\n",
      "  with DDGS() as ddgs:\n"
     ]
    }
   ],
   "source": [
    "#2.获取网页链接以及标题内容，如果需要里面的详细信息还得自己在写一层，snippet这个字段没啥大用，结果非常不稳定，地区总是找不到\n",
    "wrapper = DuckDuckGoSearchAPIWrapper(backend = \"lite\",region=\"cn-zh\", time=\"d\", max_results=10,safesearch='moderate')\n",
    "search2 = DuckDuckGoSearchResults(api_wrapper=wrapper, max_results = 10,backend = \"text\",source=\"news\",output_format='list')\n",
    "result2 = search2.invoke(\"请搜索浦发银行相关新闻，不要搜索无关的内容\")"
   ]
  },
  {
   "cell_type": "code",
   "execution_count": 124,
   "id": "d394d115-58e0-4e37-8bb5-4323586654de",
   "metadata": {},
   "outputs": [
    {
     "data": {
      "text/plain": [
       "[{'snippet': '9 hours ago · 浦发银行所属申万行业为：银行-股份制银行Ⅱ-股份制银行Ⅲ。 所属概念板块包括：信托概念、长期破净、低市盈率、破净股、长三角一体化等。',\n",
       "  'title': '浦发银行跌0.42%，成交额11.62亿元，后市是否有机会？|浦发银 …',\n",
       "  'link': 'https://finance.sina.com.cn/stock/aiassist/ggsp/2025-07-09/doc-infewcvs9539542.shtml'},\n",
       " {'snippet': '9 hours ago · 近年来，保险资金被视作银行股投资的核心增量资金。 平安证券近日发布的研报指出，A股上市银行中前十大股东中出现险资身影的总共有23家，持股比例超5%的共有11家。 2024年以 …',\n",
       "  'title': '浦发银行涨超34% 郑州银行逆势下跌|险资|银行股|青岛银行|中信 …',\n",
       "  'link': 'https://www.163.com/dy/article/K40P149905129QAF.html'},\n",
       " {'snippet': '9 hours ago · 昨日7月8号 上海浦东机场东航航空班机飞往长沙。延误4个小时以上。 等待回复先是修理，期间没有给消费者任何解决方案，很多人员去要个说法解决问题。后面才按流程操作办事。还是我 …',\n",
       "  'title': '昨日7月8号 上海浦东机场东航航空班机飞往长沙。延误4个小时以 …',\n",
       "  'link': 'https://www.douyin.com/video/7524902701881707835'},\n",
       " {'snippet': '9 hours ago · 2025四川九洲防控科技有限责任公司招聘软件工程师岗等人员考前自测高频考点模拟试题参考答案详解.docx 2025四川九洲电器集团有限责任公司天线工程师等岗位招聘8人模拟试卷及答案 …',\n",
       "  'title': '2025四川九洲投资控股集团有限公司招聘人力资源管理岗人员模 …',\n",
       "  'link': 'https://max.book118.com/html/2025/0707/8004024136007106.shtm'}]"
      ]
     },
     "execution_count": 124,
     "metadata": {},
     "output_type": "execute_result"
    }
   ],
   "source": [
    "result2"
   ]
  },
  {
   "cell_type": "code",
   "execution_count": null,
   "id": "9ef54544-c52b-4b80-8fe6-aca10566cfb2",
   "metadata": {},
   "outputs": [],
   "source": []
  }
 ],
 "metadata": {
  "kernelspec": {
   "display_name": "Python 3 (ipykernel)",
   "language": "python",
   "name": "python3"
  },
  "language_info": {
   "codemirror_mode": {
    "name": "ipython",
    "version": 3
   },
   "file_extension": ".py",
   "mimetype": "text/x-python",
   "name": "python",
   "nbconvert_exporter": "python",
   "pygments_lexer": "ipython3",
   "version": "3.11.9"
  }
 },
 "nbformat": 4,
 "nbformat_minor": 5
}
