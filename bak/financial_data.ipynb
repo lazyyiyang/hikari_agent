{
 "cells": [
  {
   "cell_type": "code",
   "execution_count": 24,
   "id": "caba5c48",
   "metadata": {},
   "outputs": [],
   "source": [
    "import pandas as pd\n",
    "import akshare as ak\n",
    "import re\n"
   ]
  },
  {
   "cell_type": "code",
   "execution_count": 25,
   "id": "4225bba7",
   "metadata": {},
   "outputs": [],
   "source": [
    "df1_ths = ak.stock_financial_debt_ths(symbol='000020', indicator=\"按报告期\")\n",
    "df2_ths = ak.stock_financial_benefit_ths(symbol='000020', indicator=\"按报告期\")\n",
    "df3_ths = ak.stock_financial_cash_ths(symbol='000020', indicator=\"按报告期\")\n",
    "df4_ths = ak.stock_financial_abstract_ths(symbol='000020', indicator=\"按报告期\")"
   ]
  },
  {
   "cell_type": "code",
   "execution_count": 26,
   "id": "c2b0482d",
   "metadata": {},
   "outputs": [],
   "source": [
    "def convert_non_standard_numbers(df):\n",
    "    \"\"\"\n",
    "    将 DataFrame 中的非标准数字（如 1亿，1万）转换为可运算的数字。\n",
    "\n",
    "    :param df: 输入的 DataFrame\n",
    "    :return: 转换后的 DataFrame\n",
    "    \"\"\"\n",
    "    def convert_value(value):\n",
    "        if pd.isna(value):\n",
    "            return value\n",
    "        try:\n",
    "            # 尝试将值转换为数字，如果成功则认为是标准数字\n",
    "            return float(value)\n",
    "        except (ValueError, TypeError):\n",
    "            # 处理非标准数字\n",
    "            if isinstance(value, str) and not re.match(r'\\d{4}-\\d{2}-\\d{2}', value):\n",
    "                match = re.match(r'(\\d+\\.?\\d*)(亿|万)?', value)\n",
    "                if match:\n",
    "                    num = float(match.group(1))\n",
    "                    unit = match.group(2)\n",
    "                    if unit == '亿':\n",
    "                        num *= 1e8\n",
    "                    elif unit == '万':\n",
    "                        num *= 1e4\n",
    "                    return num\n",
    "            return value\n",
    "\n",
    "    return df.applymap(convert_value)"
   ]
  },
  {
   "cell_type": "code",
   "execution_count": 27,
   "id": "7c399eb3",
   "metadata": {},
   "outputs": [
    {
     "name": "stderr",
     "output_type": "stream",
     "text": [
      "/var/folders/mj/g28l9ts928x2w59bt3s_lq6m0000gr/T/ipykernel_90951/3196826298.py:28: FutureWarning: DataFrame.applymap has been deprecated. Use DataFrame.map instead.\n",
      "  return df.applymap(convert_value)\n"
     ]
    }
   ],
   "source": [
    "df1 = convert_non_standard_numbers(df1_ths)\n",
    "df1 = df1[df1[\"报告期\"].str.endswith(\"12-31\")].head(4)"
   ]
  },
  {
   "cell_type": "code",
   "execution_count": 46,
   "id": "ff80f6b5",
   "metadata": {},
   "outputs": [
    {
     "name": "stderr",
     "output_type": "stream",
     "text": [
      "/var/folders/mj/g28l9ts928x2w59bt3s_lq6m0000gr/T/ipykernel_90951/3196826298.py:28: FutureWarning: DataFrame.applymap has been deprecated. Use DataFrame.map instead.\n",
      "  return df.applymap(convert_value)\n"
     ]
    }
   ],
   "source": [
    "df2 = convert_non_standard_numbers(df2_ths)\n",
    "df2 = df2[df2[\"报告期\"].str.endswith(\"12-31\")].head(4)"
   ]
  },
  {
   "cell_type": "code",
   "execution_count": 49,
   "id": "1cbf6b36",
   "metadata": {},
   "outputs": [
    {
     "name": "stderr",
     "output_type": "stream",
     "text": [
      "/var/folders/mj/g28l9ts928x2w59bt3s_lq6m0000gr/T/ipykernel_90951/3196826298.py:28: FutureWarning: DataFrame.applymap has been deprecated. Use DataFrame.map instead.\n",
      "  return df.applymap(convert_value)\n"
     ]
    }
   ],
   "source": [
    "df3 = convert_non_standard_numbers(df3_ths)\n",
    "df3 = df3[df3[\"报告期\"].str.endswith(\"12-31\")].head(4)"
   ]
  },
  {
   "cell_type": "code",
   "execution_count": 48,
   "id": "90b4dfe9",
   "metadata": {},
   "outputs": [
    {
     "data": {
      "application/vnd.microsoft.datawrangler.viewer.v0+json": {
       "columns": [
        {
         "name": "index",
         "rawType": "int64",
         "type": "integer"
        },
        {
         "name": "其中：应收票据",
         "rawType": "float64",
         "type": "float"
        }
       ],
       "ref": "e70810ae-593a-46df-a0ba-c5ba957c8b7a",
       "rows": [
        [
         "1",
         "-0.24455121788455125"
        ],
        [
         "5",
         "10.863803399173174"
        ],
        [
         "9",
         "0.5785202117599755"
        ],
        [
         "13",
         null
        ]
       ],
       "shape": {
        "columns": 1,
        "rows": 4
       }
      },
      "text/plain": [
       "1     -0.244551\n",
       "5     10.863803\n",
       "9      0.578520\n",
       "13          NaN\n",
       "Name: 其中：应收票据, dtype: float64"
      ]
     },
     "execution_count": 48,
     "metadata": {},
     "output_type": "execute_result"
    }
   ],
   "source": [
    "# 货币资金\n",
    "df1['有息负债'] = df1['短期借款'] + df1['其中：应付利息'] + df1['一年内到期的非流动负债'] + df1['长期借款']\n",
    "\n",
    "df1['货币资金'] / df1['*资产合计']\n",
    "df1['有息负债'] / df1['负债合计']\n",
    "df2['其中：利息费用'] / df2['*净利润']\n",
    "df2['利息收入'] / df1['货币资金']\n",
    "(df1[\"应收账款\"] / df1[\"预付款项\"]).iloc[0]\n",
    "\n",
    "# 三年变化幅度\n",
    "df1.iloc[0]['货币资金'] / df1.iloc[3]['货币资金']\n",
    "df1.iloc[0]['应付账款'] / df1.iloc[3]['应付账款']\n",
    "\n",
    "# 固定资产\n",
    "df1[\"固定资产合计\"] / df1[\"资产合计\"]\n",
    "\n",
    "# 应收帐款净额\n",
    "df1[\"应收账款\"] / df1[\"资产合计\"]\n",
    "\n",
    "(df1[\"应收账款\"] / df1[\"应收账款\"].shift(1) - 1).shift(-1)\n",
    "(df1[\"预付款项\"] / df1[\"预付款项\"].shift(1) - 1).shift(-1)\n",
    "(df2[\"*营业总收入\"] / df2[\"*营业总收入\"].shift(1) - 1).shift(-1)\n",
    "df1[\"其他应收款合计\"]\n",
    "(df1[\"其中：应收票据\"] / df1[\"其中：应收票据\"].shift(1) - 1).shift(-1)\n",
    "\n",
    "def get_change_rate(series):\n",
    "    return (series / series.shift(1) - 1).shift(-1)\n",
    "\n",
    "def get_portion(a, b)\n",
    "\n",
    "\n",
    "\n",
    "df1[\"其中：应收票据\"] / df2['资产减值损失']\n",
    "# 净现比\n",
    "df3['*经营活动产生的现金流量净额'] / df2['*净利润']\n",
    "# 收现比\n",
    "df3['销售商品、提供劳务收到的现金'] / df2[\"*营业总收入\"]\n",
    "\n",
    "df1[\"预付款项\"] / df1[\"资产合计\"]\n",
    "df1['存货'] / df1['资产合计']\n",
    "df1['在建工程合计'] / df1['固定资产合计']\n",
    "\n",
    "(df1['短期借款'] + df1['其中：应收票据']) / df1['流动资产合计']\n",
    "\n",
    "df1['有息负债'] / df2['*营业总收入']\n",
    "df1['有息负债'] / df2['财务费用']\n",
    "\n",
    "df1['货币资金'] / df1['流动负债']\n",
    "\n"
   ]
  },
  {
   "cell_type": "code",
   "execution_count": 54,
   "id": "cc37acd5",
   "metadata": {},
   "outputs": [
    {
     "name": "stdout",
     "output_type": "stream",
     "text": [
      "报告期\n",
      "净利润\n",
      "净利润同比增长率\n",
      "扣非净利润\n",
      "扣非净利润同比增长率\n",
      "营业总收入\n",
      "营业总收入同比增长率\n",
      "基本每股收益\n",
      "每股净资产\n",
      "每股资本公积金\n",
      "每股未分配利润\n",
      "每股经营现金流\n",
      "销售净利率\n",
      "销售毛利率\n",
      "净资产收益率\n",
      "净资产收益率-摊薄\n",
      "营业周期\n",
      "存货周转率\n",
      "存货周转天数\n",
      "应收账款周转天数\n",
      "流动比率\n",
      "速动比率\n",
      "保守速动比率\n",
      "产权比率\n",
      "资产负债率\n"
     ]
    }
   ],
   "source": [
    "for col in list(df4_ths):\n",
    "    print(col)"
   ]
  },
  {
   "cell_type": "code",
   "execution_count": null,
   "id": "be84cb47",
   "metadata": {},
   "outputs": [],
   "source": []
  }
 ],
 "metadata": {
  "kernelspec": {
   "display_name": "Python 3",
   "language": "python",
   "name": "python3"
  },
  "language_info": {
   "codemirror_mode": {
    "name": "ipython",
    "version": 3
   },
   "file_extension": ".py",
   "mimetype": "text/x-python",
   "name": "python",
   "nbconvert_exporter": "python",
   "pygments_lexer": "ipython3",
   "version": "3.10.10"
  }
 },
 "nbformat": 4,
 "nbformat_minor": 5
}
